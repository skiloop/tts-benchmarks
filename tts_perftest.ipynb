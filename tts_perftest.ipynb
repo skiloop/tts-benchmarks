{
  "cells": [
    {
      "cell_type": "code",
      "execution_count": null,
      "metadata": {
        "colab": {
          "base_uri": "https://localhost:8080/"
        },
        "id": "FeLmNgWDNt-z",
        "outputId": "f4fea32c-ff29-4300-ea93-a7e179cbe54e"
      },
      "outputs": [],
      "source": [
        "# clone codes\n",
        "import os\n",
        "os.chdir('/content/')\n",
        "\n",
        "!git clone https://github.com/neuphonic/neutts-air\n",
        "!apt-get install -y espeak\n",
        "%pip install -r neutts-air/requirements.txt\n",
        "%pip install llama-cpp-python onnxruntime\n",
        "!apt-get install time ffmpeg\n",
        "!/usr/bin/time -v\n",
        "\n"
      ]
    },
    {
      "cell_type": "code",
      "execution_count": null,
      "metadata": {},
      "outputs": [],
      "source": [
        "# prepare benchmark\n",
        "!git clone https://github.com/skiloop/tts-benchmarks\n",
        "os.chdir('/content/tts-benchmarks/')\n",
        "!DST_PATH=~/.local/bin/ sh install.sh\n",
        "%pip install -r requirements.txt"
      ]
    },
    {
      "cell_type": "code",
      "execution_count": null,
      "metadata": {
        "colab": {
          "base_uri": "https://localhost:8080/"
        },
        "id": "ssjxOJFcQW01",
        "outputId": "ddc836e6-0153-4a56-c9af-83ee583772c3"
      },
      "outputs": [],
      "source": [
        "# test and prepare models\n",
        "import os\n",
        "os.chdir('/content/neutts-air/')\n",
        "\n",
        "# Set environment variables for test text and reference files\n",
        "%env TEST_TEXT=My name is Dave, and um, I'm from London\n",
        "%env REF_AUDIO=./samples/dave.wav\n",
        "%env REF_TEXT=./samples/dave.txt\n",
        "%env REF_CODES=samples/dave.pt\n",
        "%env BACKBONE=neuphonic/neutts-air-q4-gguf\n",
        "\n",
        "# Test with different configurations\n",
        "!python -m examples.onnx_example \\\n",
        "  --input_text \"My name is Dave, and um, I'm from London\" \\\n",
        "  --ref_codes samples/dave.pt \\\n",
        "  --ref_text samples/dave.txt \\\n",
        "  --backbone neuphonic/neutts-air-q4-gguf\n",
        "!python -m examples.basic_example \\\n",
        "  --input_text \"My name is Dave, and um, I'm from London\" \\\n",
        "  --ref_audio ./samples/dave.wav \\\n",
        "  --ref_text ./samples/dave.txt \\\n",
        "  --backbone neuphonic/neutts-air-q4-gguf\n",
        "!python -m examples.basic_example \\\n",
        "  --input_text \"My name is Dave, and um, I'm from London\" \\\n",
        "  --ref_audio ./samples/dave.wav \\\n",
        "  --ref_text ./samples/dave.txt\n",
        "!python -m examples.onnx_example --input_text \"My name is Dave, and um, I'm from London\" --ref_audio ./samples/dave.wav --ref_text ./samples/dave.txt --ref_codes samples/dave.pt\n",
        "!chartts -t \"My name is Dave, and um, I'm from London\" -o output.wav\n",
        "# coqui tts\n",
        "!tts --text \"$TEST_TEXT\" --out_path output.wav\n",
        "!tts --test \"$TEST_TEXT\" --out_path output.wav --speaker_wav $REF_AUDIO --model_name tts_models/multilingual/multi-dataset"
      ]
    },
    {
      "cell_type": "code",
      "execution_count": null,
      "metadata": {
        "id": "R19QQn-yRDFD"
      },
      "outputs": [],
      "source": [
        "# config performance test\n",
        "import json\n",
        "import os\n",
        "\n",
        "# Define test parameters\n",
        "TEST_TEXT = \"My name is Dave, and um, I'm from London\"\n",
        "REF_AUDIO = \"./samples/dave.wav\"\n",
        "REF_TEXT = \"./samples/dave.txt\"\n",
        "REF_CODES = \"samples/dave.pt\"\n",
        "\n",
        "# Build configuration using variables\n",
        "config = {\n",
        "  \"description\": \"TTS性能测试\",\n",
        "  \"iterations\": 5,\n",
        "  \"tests\": [\n",
        "    {\n",
        "      \"name\": \"neutts\",\n",
        "      \"command\": f\"python -m examples.basic_example --input_text \\\"{TEST_TEXT}\\\" --ref_audio {REF_AUDIO} --ref_text {REF_TEXT}\"\n",
        "    },\n",
        "    {\n",
        "      \"name\": \"neutts-gguf\",\n",
        "      \"command\": f\"python -m examples.basic_example --input_text \\\"{TEST_TEXT}\\\" --ref_audio {REF_AUDIO} --ref_text {REF_TEXT} --backbone neuphonic/neutts-air-q4-gguf\"\n",
        "    },\n",
        "    {\n",
        "      \"name\": \"neutts-onnx-gguf\",\n",
        "      \"command\": f\"python -m examples.onnx_example --input_text \\\"{TEST_TEXT}\\\" --ref_text {REF_TEXT} --ref_codes {REF_CODES} --backbone neuphonic/neutts-air-q4-gguf\"\n",
        "    },\n",
        "    {\n",
        "      \"name\": \"neutts-onnx\",\n",
        "      \"command\": f\"python -m examples.onnx_example --input_text \\\"{TEST_TEXT}\\\" --ref_text {REF_TEXT} --ref_codes {REF_CODES} --backbone neuphonic/neutts-air-q4-gguf\"\n",
        "    },\n",
        "    {\n",
        "      \"name\": \"edge-tts\",\n",
        "      \"command\": f\"edge-tts --text \\\"{TEST_TEXT}\\\" --write-media ./outputs/dave-edge-tts.wav\"\n",
        "    },\n",
        "    {\n",
        "      \"name\": \"chartts\",\n",
        "      \"command\": f\"chartts -t \\\"{TEST_TEXT}\\\" -o ./outputs/dave-chartts.wav\"\n",
        "    },\n",
        "    {\n",
        "      \"name\": \"coqui-tts\",\n",
        "      \"command\": f\"tts --text \\\"{TEST_TEXT}\\\" --out_path ./outputs/dave-coqui-tts.wav\"\n",
        "    }\n",
        "  ]\n",
        "}\n",
        "\n",
        "with open('perftest.json', 'w') as f:\n",
        "  json.dump(config, f, indent=2)\n"
      ]
    },
    {
      "cell_type": "code",
      "execution_count": null,
      "metadata": {
        "colab": {
          "base_uri": "https://localhost:8080/"
        },
        "id": "xqq43uigRapI",
        "outputId": "c959e90d-b805-4d47-89f7-a970d03a7b11"
      },
      "outputs": [],
      "source": [
        "# do performance test\n",
        "!perftest -f perftest.json -o pefromance.json\n"
      ]
    }
  ],
  "metadata": {
    "colab": {
      "provenance": []
    },
    "kernelspec": {
      "display_name": "Python 3",
      "name": "python3"
    },
    "language_info": {
      "name": "python"
    }
  },
  "nbformat": 4,
  "nbformat_minor": 0
}
