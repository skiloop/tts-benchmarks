{
  "cells": [
    {
      "cell_type": "code",
      "execution_count": null,
      "metadata": {
        "colab": {
          "base_uri": "https://localhost:8080/"
        },
        "id": "FeLmNgWDNt-z",
        "outputId": "f4fea32c-ff29-4300-ea93-a7e179cbe54e"
      },
      "outputs": [],
      "source": [
        "# clone codes\n",
        "import os\n",
        "os.chdir('/content/')\n",
        "\n",
        "!git clone https://github.com/neuphonic/neutts-air\n",
        "!apt-get install -y espeak\n",
        "%pip install -r neutts-air/requirements.txt\n",
        "%pip install llama-cpp-python onnxruntime\n",
        "!apt-get install time ffmpeg\n",
        "!/usr/bin/time -v\n",
        "\n"
      ]
    },
    {
      "cell_type": "code",
      "execution_count": null,
      "metadata": {},
      "outputs": [],
      "source": [
        "# prepare benchmark\n",
        "!git clone https://github.com/skiloop/tts-benchmarks\n",
        "os.chdir('/content/tts-benchmarks/')\n",
        "!sh install.sh\n",
        "%pip install -r requirements.txt"
      ]
    },
    {
      "cell_type": "code",
      "execution_count": null,
      "metadata": {
        "colab": {
          "base_uri": "https://localhost:8080/"
        },
        "id": "ssjxOJFcQW01",
        "outputId": "ddc836e6-0153-4a56-c9af-83ee583772c3"
      },
      "outputs": [
        {
          "name": "stdout",
          "output_type": "stream",
          "text": [
            "Reading package lists... Done\n",
            "Building dependency tree... Done\n",
            "Reading state information... Done\n",
            "ffmpeg is already the newest version (7:4.4.2-0ubuntu0.22.04.1).\n",
            "0 upgraded, 0 newly installed, 0 to remove and 38 not upgraded.\n"
          ]
        }
      ],
      "source": [
        "# test and prepare models\n",
        "import os\n",
        "os.chdir('/content/neutts-air/')\n",
        "\n",
        "!python -m examples.onnx_example \\\n",
        "  --input_text \"My name is Dave, and um, I'm from London\" \\\n",
        "  --ref_codes samples/dave.pt \\\n",
        "  --ref_text samples/dave.txt \\\n",
        "  --backbone neuphonic/neutts-air-q4-gguf\n",
        "!python -m examples.basic_example \\\n",
        "  --input_text \"My name is Dave, and um, I'm from London\" \\\n",
        "  --ref_audio ./samples/dave.wav \\\n",
        "  --ref_text ./samples/dave.txt \\\n",
        "  --backbone neuphonic/neutts-air-q4-gguf\n",
        "!python -m examples.basic_example \\\n",
        "  --input_text \"My name is Dave, and um, I'm from London\" \\\n",
        "  --ref_audio ./samples/dave.wav \\\n",
        "  --ref_text ./samples/dave.txt\n",
        "!python -m examples.onnx_example --input_text \"My name is Dave, and um, I'm from London\" --ref_audio ./samples/dave.wav --ref_text ./samples/dave.txt --ref_codes samples/dave.pt\n",
        "!"
      ]
    },
    {
      "cell_type": "code",
      "execution_count": 30,
      "metadata": {
        "id": "R19QQn-yRDFD"
      },
      "outputs": [],
      "source": [
        "# config performance test\n",
        "import json\n",
        "\n",
        "config = {\n",
        "  \"description\": \"TTS性能测试\",\n",
        "  \"iterations\": 5,\n",
        "  \"tests\": [\n",
        "    {\n",
        "      \"name\": \"neutts\",\n",
        "      \"command\": \"python -m examples.basic_example --input_text \\\"My name is Dave, and um, I'm from London\\\" --ref_audio ./samples/dave.wav --ref_text ./samples/dave.txt\"\n",
        "    },\n",
        "    {\n",
        "      \"name\": \"neutts-gguf\",\n",
        "      \"command\": \"python -m examples.basic_example --input_text \\\"My name is Dave, and um, I'm from London\\\" --ref_audio ./samples/dave.wav --ref_text ./samples/dave.txt --backbone neuphonic/neutts-air-q4-gguf\"\n",
        "    },\n",
        "    {\n",
        "      \"name\": \"neutts-onnx-gguf\",\n",
        "      \"command\": \"python -m examples.onnx_example --input_text \\\"My name is Dave, and um, I'm from London\\\" --ref_text ./samples/dave.txt --ref_codes samples/dave.pt --backbone neuphonic/neutts-air-q4-gguf\"\n",
        "    },\n",
        "    {\n",
        "      \"name\": \"neutts-onnx\",\n",
        "      \"command\": \"python -m examples.onnx_example --input_text \\\"My name is Dave, and um, I'm from London\\\" --ref_text ./samples/dave.txt --ref_codes samples/dave.pt\"\n",
        "    },\n",
        "    {\n",
        "      \"name\": \"edge-tts\",\n",
        "      \"command\": \"edge-tts --text \\\"My name is Dave, and um, I'm from London\\\" --write-media ./outputs/dave-edge-tts.wav\"\n",
        "    },\n",
        "  ]\n",
        "}\n",
        "\n",
        "with open('perftest.json', 'w') as f:\n",
        "  json.dump(config, f)\n"
      ]
    },
    {
      "cell_type": "code",
      "execution_count": 31,
      "metadata": {
        "colab": {
          "base_uri": "https://localhost:8080/"
        },
        "id": "xqq43uigRapI",
        "outputId": "c959e90d-b805-4d47-89f7-a970d03a7b11"
      },
      "outputs": [
        {
          "name": "stdout",
          "output_type": "stream",
          "text": [
            "\u001b[1m\u001b[95m性能测试工具\u001b[0m\n",
            "总共 4 个测试，每个运行 5 次\n",
            "\n",
            "\n",
            "\u001b[1m[1/4]\u001b[0m\n",
            "\u001b[96m测试 [neutts]: \u001b[0mpython -m examples.basic_example --input_text \"My name is Dave, and um, I'm from London\" --ref_audio ./samples/dave.wav --ref_text ./samples/dave.txt\n",
            "  \u001b[92m完成 5 次运行\u001b[0m\n",
            "\n",
            "\u001b[1m[2/4]\u001b[0m\n",
            "\u001b[96m测试 [neutts-gguf]: \u001b[0mpython -m examples.basic_example --input_text \"My name is Dave, and um, I'm from London\" --ref_audio ./samples/dave.wav --ref_text ./samples/dave.txt --backbone neuphonic/neutts-air-q4-gguf\n",
            "  \u001b[92m完成 5 次运行\u001b[0m\n",
            "\n",
            "\u001b[1m[3/4]\u001b[0m\n",
            "\u001b[96m测试 [neutts-onnx-gguf]: \u001b[0mpython -m examples.onnx_example --input_text \"My name is Dave, and um, I'm from London\" --ref_text ./samples/dave.txt --ref_codes samples/dave.pt --backbone neuphonic/neutts-air-q4-gguf\n",
            "  \u001b[92m完成 5 次运行\u001b[0m\n",
            "\n",
            "\u001b[1m[4/4]\u001b[0m\n",
            "\u001b[96m测试 [neutts-onnx]: \u001b[0mpython -m examples.onnx_example --input_text \"My name is Dave, and um, I'm from London\" --ref_text ./samples/dave.txt --ref_codes samples/dave.pt\n",
            "  \u001b[92m完成 5 次运行\u001b[0m\n",
            "\n",
            "\u001b[1m\u001b[95m================================================================================\u001b[0m\n",
            "\u001b[1m\u001b[95m性能测试摘要\u001b[0m\n",
            "\u001b[1m\u001b[95m================================================================================\u001b[0m\n",
            "\n",
            "\u001b[1m名称                   实际时间            用户时间            系统时间            相对速度      \u001b[0m\n",
            "--------------------------------------------------------------------------------\n",
            "\u001b[92mneutts-onnx-gguf     61.774s ±5.626  60.694s         6.150s          1.00x     \u001b[0m\n",
            "\u001b[0mneutts-gguf          86.810s ±9.792  81.474s         6.914s          1.41x     \u001b[0m\n",
            "\u001b[0mneutts-onnx          227.446s ±9.843 212.634s        9.390s          3.68x     \u001b[0m\n",
            "\u001b[0mneutts               277.648s ±21.121 234.544s        17.606s         4.49x     \u001b[0m\n",
            "\n",
            "\u001b[1m详细统计:\u001b[0m\n",
            "\n",
            "\u001b[96m\u001b[1m[neutts-onnx-gguf]\u001b[0m\n",
            "  命令: python -m examples.onnx_example --input_text \"My name is Dave, and um, I'm from London\" --ref_text ./samples/dave.txt --ref_codes samples/dave.pt --backbone neuphonic/neutts-air-q4-gguf\n",
            "  平均实际时间: 61.774s (最小: 56.460s, 最大: 70.480s)\n",
            "  平均用户时间: 60.694s\n",
            "  平均系统时间: 6.150s\n",
            "  平均CPU时间:  66.844s\n",
            "  标准差: 5.626s\n",
            "  \u001b[92m🏆 最快!\u001b[0m\n",
            "\n",
            "\u001b[96m\u001b[1m[neutts-gguf]\u001b[0m\n",
            "  命令: python -m examples.basic_example --input_text \"My name is Dave, and um, I'm from London\" --ref_audio ./samples/dave.wav --ref_text ./samples/dave.txt --backbone neuphonic/neutts-air-q4-gguf\n",
            "  平均实际时间: 86.810s (最小: 79.050s, 最大: 98.500s)\n",
            "  平均用户时间: 81.474s\n",
            "  平均系统时间: 6.914s\n",
            "  平均CPU时间:  88.388s\n",
            "  标准差: 9.792s\n",
            "  比最快慢 40.5% (1.41x)\n",
            "\n",
            "\u001b[96m\u001b[1m[neutts-onnx]\u001b[0m\n",
            "  命令: python -m examples.onnx_example --input_text \"My name is Dave, and um, I'm from London\" --ref_text ./samples/dave.txt --ref_codes samples/dave.pt\n",
            "  平均实际时间: 227.446s (最小: 217.730s, 最大: 241.580s)\n",
            "  平均用户时间: 212.634s\n",
            "  平均系统时间: 9.390s\n",
            "  平均CPU时间:  222.024s\n",
            "  标准差: 9.843s\n",
            "  比最快慢 268.2% (3.68x)\n",
            "\n",
            "\u001b[96m\u001b[1m[neutts]\u001b[0m\n",
            "  命令: python -m examples.basic_example --input_text \"My name is Dave, and um, I'm from London\" --ref_audio ./samples/dave.wav --ref_text ./samples/dave.txt\n",
            "  平均实际时间: 277.648s (最小: 253.410s, 最大: 306.190s)\n",
            "  平均用户时间: 234.544s\n",
            "  平均系统时间: 17.606s\n",
            "  平均CPU时间:  252.150s\n",
            "  标准差: 21.121s\n",
            "  比最快慢 349.5% (4.49x)\n",
            "\n",
            "\u001b[92m结果已保存到: pefromance.json\u001b[0m\n"
          ]
        }
      ],
      "source": [
        "# do performance test\n",
        "!perftest -f perftest.json -o pefromance.json\n"
      ]
    }
  ],
  "metadata": {
    "colab": {
      "provenance": []
    },
    "kernelspec": {
      "display_name": "Python 3",
      "name": "python3"
    },
    "language_info": {
      "name": "python"
    }
  },
  "nbformat": 4,
  "nbformat_minor": 0
}
